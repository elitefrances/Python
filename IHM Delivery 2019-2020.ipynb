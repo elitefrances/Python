{
 "cells": [
  {
   "cell_type": "code",
   "execution_count": 1,
   "metadata": {},
   "outputs": [],
   "source": [
    "import pandas as pd\n",
    "import numpy as np\n",
    "import calendar as cl"
   ]
  },
  {
   "cell_type": "code",
   "execution_count": 2,
   "metadata": {},
   "outputs": [
    {
     "data": {
      "text/plain": [
       "32021"
      ]
     },
     "execution_count": 2,
     "metadata": {},
     "output_type": "execute_result"
    }
   ],
   "source": [
    "folder = \"C:/Users/fding/Desktop/BI Tasks/2020.10.6 - IHM report 2019&2020/MOF\"\n",
    "folder2 = \"C:/Users/fding/Desktop/BI Tasks/2020.10.6 - IHM report 2019&2020/billing prepare\"\n",
    "columns = ['Market','Advertiser','Campaign Name','Billable Impressions','Billable Media Cost','License Fee','One View','Media','Platform']\n",
    "ihm_delivery_19 = pd.DataFrame(columns = columns)\n",
    "for i in range(6,13):\n",
    "    for j in range(19,20):\n",
    "        try:\n",
    "## Get info from MOF file\n",
    "            MOF_file = \"/MOF 20\" + str(j) + \"-\" + str(i) + \".xlsx\"\n",
    "            temp = pd.read_excel(folder + MOF_file, 'MOF')\n",
    "            temp = temp[temp['Organization'] == 'iHeartMedia'][columns]\n",
    "            temp.insert(0,'Month','20'+str(j)+'-'+str(i)+'-01')\n",
    "## Get CTR from billing prepare file, and vlookup to temp\n",
    "            billing_file = \"/billing prepare 20\" + str(j) + \"_\" + str(i) + \".xlsx\"\n",
    "            CTR = pd.read_excel(folder2 + billing_file, 'Actual CTR')\n",
    "            CTR = CTR[['campaign','Last Month CTR']]\n",
    "            CTR = CTR.rename(columns = {'campaign':'Campaign Name'})\n",
    "            temp = temp.merge(CTR, on = 'Campaign Name', how = 'left')\n",
    "            ihm_delivery_19 = ihm_delivery_19.append(temp, sort = False)\n",
    "        except KeyError as e:\n",
    "            print(i, j, e)\n",
    "        else:\n",
    "            continue\n",
    "ihm_delivery_19.shape[0]"
   ]
  },
  {
   "cell_type": "code",
   "execution_count": 3,
   "metadata": {},
   "outputs": [
    {
     "data": {
      "text/plain": [
       "12623"
      ]
     },
     "execution_count": 3,
     "metadata": {},
     "output_type": "execute_result"
    }
   ],
   "source": [
    "ihm_delivery_20 = pd.DataFrame(columns = columns)\n",
    "for i in range(1,8):\n",
    "    for j in range(20,21):\n",
    "        try:\n",
    "## Get info from MOF file\n",
    "            MOF_file = \"/MOF 20\" + str(j) + \"-\" + str(i) + \".xlsx\"\n",
    "            temp = pd.read_excel(folder + MOF_file, 'MOF')\n",
    "            temp = temp[temp['Organization'] == 'iHeartMedia'][columns]\n",
    "            temp.insert(0,'Month','20'+str(j)+'-'+str(i)+'-01')\n",
    "## ## Get CTR from billing prepare file, and vlookup to temp\n",
    "            billing_file = \"/billing prepare 20\" + str(j) + \"_\" + str(i) + \".xlsx\"\n",
    "            CTR = pd.read_excel(folder2 + billing_file, 'Actual CTR')\n",
    "            CTR = CTR[['campaign','Last Month CTR']]\n",
    "            CTR = CTR.rename(columns = {'campaign':'Campaign Name'})\n",
    "            temp = temp.merge(CTR, on = 'Campaign Name', how = 'left')\n",
    "            ihm_delivery_20 = ihm_delivery_20.append(temp, sort = False)\n",
    "        except KeyError as e:\n",
    "            print(i, j, e)\n",
    "        else:\n",
    "            continue\n",
    "ihm_delivery_20.shape[0]"
   ]
  },
  {
   "cell_type": "code",
   "execution_count": 4,
   "metadata": {},
   "outputs": [
    {
     "data": {
      "text/plain": [
       "44644"
      ]
     },
     "execution_count": 4,
     "metadata": {},
     "output_type": "execute_result"
    }
   ],
   "source": [
    "summary = pd.concat([ihm_delivery_19, ihm_delivery_20])\n",
    "summary.shape[0]"
   ]
  },
  {
   "cell_type": "code",
   "execution_count": 5,
   "metadata": {},
   "outputs": [],
   "source": [
    "summary.to_excel(folder + '/summary.xlsx', index = False)"
   ]
  },
  {
   "cell_type": "code",
   "execution_count": null,
   "metadata": {},
   "outputs": [],
   "source": []
  }
 ],
 "metadata": {
  "kernelspec": {
   "display_name": "Python 3",
   "language": "python",
   "name": "python3"
  },
  "language_info": {
   "codemirror_mode": {
    "name": "ipython",
    "version": 3
   },
   "file_extension": ".py",
   "mimetype": "text/x-python",
   "name": "python",
   "nbconvert_exporter": "python",
   "pygments_lexer": "ipython3",
   "version": "3.7.3"
  }
 },
 "nbformat": 4,
 "nbformat_minor": 2
}
