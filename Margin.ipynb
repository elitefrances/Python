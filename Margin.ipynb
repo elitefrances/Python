{
 "cells": [
  {
   "cell_type": "code",
   "execution_count": 27,
   "metadata": {},
   "outputs": [],
   "source": [
    "import pandas as pd\n",
    "import numpy as np\n",
    "import calendar as cl"
   ]
  },
  {
   "cell_type": "code",
   "execution_count": 2,
   "metadata": {},
   "outputs": [],
   "source": [
    "folder = \"C:/Users/fding/Desktop/BI Tasks/2020.5.29 - IHM Partner Project\"\n",
    "invoice_file = \"/2020.5.1 ExtendTV Invoicing Master - Finance - Apr.xlsx\"\n",
    "order_file = \"/Orders 5.29.xlsx\""
   ]
  },
  {
   "cell_type": "code",
   "execution_count": 3,
   "metadata": {},
   "outputs": [
    {
     "data": {
      "text/html": [
       "<div>\n",
       "<style scoped>\n",
       "    .dataframe tbody tr th:only-of-type {\n",
       "        vertical-align: middle;\n",
       "    }\n",
       "\n",
       "    .dataframe tbody tr th {\n",
       "        vertical-align: top;\n",
       "    }\n",
       "\n",
       "    .dataframe thead th {\n",
       "        text-align: right;\n",
       "    }\n",
       "</style>\n",
       "<table border=\"1\" class=\"dataframe\">\n",
       "  <thead>\n",
       "    <tr style=\"text-align: right;\">\n",
       "      <th></th>\n",
       "      <th>Monthdate</th>\n",
       "      <th>Campaign Name</th>\n",
       "      <th>Billable Impressions</th>\n",
       "      <th>Total Cost</th>\n",
       "    </tr>\n",
       "  </thead>\n",
       "  <tbody>\n",
       "    <tr>\n",
       "      <th>39</th>\n",
       "      <td>2016-06-01</td>\n",
       "      <td>BLVD_Treatment_Centers_June_2016_1103538064_Di...</td>\n",
       "      <td>197310</td>\n",
       "      <td>939.1956</td>\n",
       "    </tr>\n",
       "  </tbody>\n",
       "</table>\n",
       "</div>"
      ],
      "text/plain": [
       "     Monthdate                                      Campaign Name  \\\n",
       "39  2016-06-01  BLVD_Treatment_Centers_June_2016_1103538064_Di...   \n",
       "\n",
       "   Billable Impressions  Total Cost  \n",
       "39               197310    939.1956  "
      ]
     },
     "execution_count": 3,
     "metadata": {},
     "output_type": "execute_result"
    }
   ],
   "source": [
    "invoice_16_6 = pd.read_excel(folder + invoice_file,'Invoices - June - 2016')\n",
    "invoice_16_6 = invoice_16_6.rename(columns = {'Organzation':'Organization','Cost':'Total Cost'})\n",
    "invoice_16_6 = invoice_16_6[(invoice_16_6['Organization'] == 'iHeartMedia') & (invoice_16_6['Total Cost'] > 0)][['Campaign Name','Billable Impressions','Total Cost']]\n",
    "invoice_16_6.insert(0, 'Monthdate', '2016-06-01')\n",
    "invoice_16_6.tail()"
   ]
  },
  {
   "cell_type": "code",
   "execution_count": 4,
   "metadata": {},
   "outputs": [
    {
     "data": {
      "text/html": [
       "<div>\n",
       "<style scoped>\n",
       "    .dataframe tbody tr th:only-of-type {\n",
       "        vertical-align: middle;\n",
       "    }\n",
       "\n",
       "    .dataframe tbody tr th {\n",
       "        vertical-align: top;\n",
       "    }\n",
       "\n",
       "    .dataframe thead th {\n",
       "        text-align: right;\n",
       "    }\n",
       "</style>\n",
       "<table border=\"1\" class=\"dataframe\">\n",
       "  <thead>\n",
       "    <tr style=\"text-align: right;\">\n",
       "      <th></th>\n",
       "      <th>Monthdate</th>\n",
       "      <th>Campaign Name</th>\n",
       "      <th>Billable Impressions</th>\n",
       "      <th>Total Cost</th>\n",
       "    </tr>\n",
       "  </thead>\n",
       "  <tbody>\n",
       "    <tr>\n",
       "      <th>55</th>\n",
       "      <td>2016-07-01</td>\n",
       "      <td>Cindy_Youell_July_Aug_1108147146_Display_ETV</td>\n",
       "      <td>55718</td>\n",
       "      <td>260.20306</td>\n",
       "    </tr>\n",
       "    <tr>\n",
       "      <th>58</th>\n",
       "      <td>2016-07-01</td>\n",
       "      <td>BLVD_Treatment_Centers_June_2016_1103538064_Di...</td>\n",
       "      <td>555917</td>\n",
       "      <td>2646.16492</td>\n",
       "    </tr>\n",
       "    <tr>\n",
       "      <th>59</th>\n",
       "      <td>2016-07-01</td>\n",
       "      <td>Skydive_San_Diego_July_Sept 2016_1103538430_Di...</td>\n",
       "      <td>49629</td>\n",
       "      <td>231.76743</td>\n",
       "    </tr>\n",
       "    <tr>\n",
       "      <th>60</th>\n",
       "      <td>2016-07-01</td>\n",
       "      <td>Skydive_San_Diego_July_Sept_2016_1103538430_Di...</td>\n",
       "      <td>59086</td>\n",
       "      <td>275.93162</td>\n",
       "    </tr>\n",
       "    <tr>\n",
       "      <th>61</th>\n",
       "      <td>2016-07-01</td>\n",
       "      <td>Skydive_San_Diego_July_Sept_2016_1103538430_Video</td>\n",
       "      <td>30143</td>\n",
       "      <td>512.43100</td>\n",
       "    </tr>\n",
       "  </tbody>\n",
       "</table>\n",
       "</div>"
      ],
      "text/plain": [
       "     Monthdate                                      Campaign Name  \\\n",
       "55  2016-07-01       Cindy_Youell_July_Aug_1108147146_Display_ETV   \n",
       "58  2016-07-01  BLVD_Treatment_Centers_June_2016_1103538064_Di...   \n",
       "59  2016-07-01  Skydive_San_Diego_July_Sept 2016_1103538430_Di...   \n",
       "60  2016-07-01  Skydive_San_Diego_July_Sept_2016_1103538430_Di...   \n",
       "61  2016-07-01  Skydive_San_Diego_July_Sept_2016_1103538430_Video   \n",
       "\n",
       "   Billable Impressions  Total Cost  \n",
       "55                55718   260.20306  \n",
       "58               555917  2646.16492  \n",
       "59                49629   231.76743  \n",
       "60                59086   275.93162  \n",
       "61                30143   512.43100  "
      ]
     },
     "execution_count": 4,
     "metadata": {},
     "output_type": "execute_result"
    }
   ],
   "source": [
    "invoice_16_7 = pd.read_excel(folder + invoice_file,'Invoices - July - 2016')\n",
    "invoice_16_7 = invoice_16_7.rename(columns = {'Organzation':'Organization','Cost':'Total Cost'})\n",
    "invoice_16_7 = invoice_16_7[(invoice_16_7['Organization'] == 'iHeartMedia') & (invoice_16_7['Total Cost'] > 0)][['Campaign Name','Billable Impressions','Total Cost']]\n",
    "invoice_16_7.insert(0, 'Monthdate', '2016-07-01')\n",
    "invoice_16_7.tail()"
   ]
  },
  {
   "cell_type": "code",
   "execution_count": 7,
   "metadata": {},
   "outputs": [
    {
     "data": {
      "text/html": [
       "<div>\n",
       "<style scoped>\n",
       "    .dataframe tbody tr th:only-of-type {\n",
       "        vertical-align: middle;\n",
       "    }\n",
       "\n",
       "    .dataframe tbody tr th {\n",
       "        vertical-align: top;\n",
       "    }\n",
       "\n",
       "    .dataframe thead th {\n",
       "        text-align: right;\n",
       "    }\n",
       "</style>\n",
       "<table border=\"1\" class=\"dataframe\">\n",
       "  <thead>\n",
       "    <tr style=\"text-align: right;\">\n",
       "      <th></th>\n",
       "      <th>Monthdate</th>\n",
       "      <th>Campaign Name</th>\n",
       "      <th>Billable Impressions</th>\n",
       "      <th>Total Cost</th>\n",
       "    </tr>\n",
       "  </thead>\n",
       "  <tbody>\n",
       "    <tr>\n",
       "      <th>85</th>\n",
       "      <td>2016-08-01</td>\n",
       "      <td>Skydive_San_Diego_July_Sept 2016_1103538430_Di...</td>\n",
       "      <td>51367</td>\n",
       "      <td>239.88389</td>\n",
       "    </tr>\n",
       "    <tr>\n",
       "      <th>86</th>\n",
       "      <td>2016-08-01</td>\n",
       "      <td>Skydive_San_Diego_July_Sept_2016_1103538430_Di...</td>\n",
       "      <td>54635</td>\n",
       "      <td>255.14545</td>\n",
       "    </tr>\n",
       "    <tr>\n",
       "      <th>87</th>\n",
       "      <td>2016-08-01</td>\n",
       "      <td>Skydive_San_Diego_July_Sept_2016_1103538430_Video</td>\n",
       "      <td>29416</td>\n",
       "      <td>500.07200</td>\n",
       "    </tr>\n",
       "    <tr>\n",
       "      <th>88</th>\n",
       "      <td>2016-08-01</td>\n",
       "      <td>Coronado_Distribution_Company_1103543249_Display</td>\n",
       "      <td>66323</td>\n",
       "      <td>358.14420</td>\n",
       "    </tr>\n",
       "    <tr>\n",
       "      <th>89</th>\n",
       "      <td>2016-08-01</td>\n",
       "      <td>Coronado_Distribution_Company_1103543249_Displ...</td>\n",
       "      <td>168150</td>\n",
       "      <td>672.60000</td>\n",
       "    </tr>\n",
       "  </tbody>\n",
       "</table>\n",
       "</div>"
      ],
      "text/plain": [
       "     Monthdate                                      Campaign Name  \\\n",
       "85  2016-08-01  Skydive_San_Diego_July_Sept 2016_1103538430_Di...   \n",
       "86  2016-08-01  Skydive_San_Diego_July_Sept_2016_1103538430_Di...   \n",
       "87  2016-08-01  Skydive_San_Diego_July_Sept_2016_1103538430_Video   \n",
       "88  2016-08-01   Coronado_Distribution_Company_1103543249_Display   \n",
       "89  2016-08-01  Coronado_Distribution_Company_1103543249_Displ...   \n",
       "\n",
       "   Billable Impressions  Total Cost  \n",
       "85                51367   239.88389  \n",
       "86                54635   255.14545  \n",
       "87                29416   500.07200  \n",
       "88                66323   358.14420  \n",
       "89               168150   672.60000  "
      ]
     },
     "execution_count": 7,
     "metadata": {},
     "output_type": "execute_result"
    }
   ],
   "source": [
    "invoice_16_8 = pd.read_excel(folder + invoice_file,'Invoices - August - 2016')\n",
    "invoice_16_8 = invoice_16_8.rename(columns = {'Organzation':'Organization','Cost':'Total Cost'})\n",
    "invoice_16_8 = invoice_16_8[(invoice_16_8['Organization'] == 'iHeartMedia') & (invoice_16_8['Total Cost'] > 0)][['Campaign Name','Billable Impressions','Total Cost']]\n",
    "invoice_16_8.insert(0, 'Monthdate', '2016-08-01')\n",
    "invoice_16_8.tail()"
   ]
  },
  {
   "cell_type": "code",
   "execution_count": 9,
   "metadata": {},
   "outputs": [
    {
     "data": {
      "text/html": [
       "<div>\n",
       "<style scoped>\n",
       "    .dataframe tbody tr th:only-of-type {\n",
       "        vertical-align: middle;\n",
       "    }\n",
       "\n",
       "    .dataframe tbody tr th {\n",
       "        vertical-align: top;\n",
       "    }\n",
       "\n",
       "    .dataframe thead th {\n",
       "        text-align: right;\n",
       "    }\n",
       "</style>\n",
       "<table border=\"1\" class=\"dataframe\">\n",
       "  <thead>\n",
       "    <tr style=\"text-align: right;\">\n",
       "      <th></th>\n",
       "      <th>Monthdate</th>\n",
       "      <th>Campaign Name</th>\n",
       "      <th>Billable Impressions</th>\n",
       "      <th>Total Cost</th>\n",
       "    </tr>\n",
       "  </thead>\n",
       "  <tbody>\n",
       "    <tr>\n",
       "      <th>120</th>\n",
       "      <td>2016-09-01</td>\n",
       "      <td>Stay_In_Savannah_1110637482_Display_ETV</td>\n",
       "      <td>10297</td>\n",
       "      <td>41.18800</td>\n",
       "    </tr>\n",
       "    <tr>\n",
       "      <th>123</th>\n",
       "      <td>2016-09-01</td>\n",
       "      <td>Toledo_Museum_of_Art_1118432951_Display</td>\n",
       "      <td>10000</td>\n",
       "      <td>55.00000</td>\n",
       "    </tr>\n",
       "    <tr>\n",
       "      <th>124</th>\n",
       "      <td>2016-09-01</td>\n",
       "      <td>Toledo_Museum_of_Art_1118432951_Display_ETV</td>\n",
       "      <td>50000</td>\n",
       "      <td>200.00000</td>\n",
       "    </tr>\n",
       "    <tr>\n",
       "      <th>125</th>\n",
       "      <td>2016-09-01</td>\n",
       "      <td>Toledo_Museum_of_Art_1118433663_Display</td>\n",
       "      <td>73.7</td>\n",
       "      <td>0.40535</td>\n",
       "    </tr>\n",
       "    <tr>\n",
       "      <th>126</th>\n",
       "      <td>2016-09-01</td>\n",
       "      <td>Toledo_Museum_of_Art_1118433663_Display_ETV</td>\n",
       "      <td>109260</td>\n",
       "      <td>437.04000</td>\n",
       "    </tr>\n",
       "  </tbody>\n",
       "</table>\n",
       "</div>"
      ],
      "text/plain": [
       "      Monthdate                                Campaign Name  \\\n",
       "120  2016-09-01      Stay_In_Savannah_1110637482_Display_ETV   \n",
       "123  2016-09-01      Toledo_Museum_of_Art_1118432951_Display   \n",
       "124  2016-09-01  Toledo_Museum_of_Art_1118432951_Display_ETV   \n",
       "125  2016-09-01      Toledo_Museum_of_Art_1118433663_Display   \n",
       "126  2016-09-01  Toledo_Museum_of_Art_1118433663_Display_ETV   \n",
       "\n",
       "    Billable Impressions  Total Cost  \n",
       "120                10297    41.18800  \n",
       "123                10000    55.00000  \n",
       "124                50000   200.00000  \n",
       "125                 73.7     0.40535  \n",
       "126               109260   437.04000  "
      ]
     },
     "execution_count": 9,
     "metadata": {},
     "output_type": "execute_result"
    }
   ],
   "source": [
    "invoice_16_9 = pd.read_excel(folder + invoice_file,'Invoices - September - 2016')\n",
    "invoice_16_9 = invoice_16_9.rename(columns = {'Organzation':'Organization','Cost':'Total Cost'})\n",
    "invoice_16_9 = invoice_16_9[(invoice_16_9['Organization'] == 'iHeartMedia') & (invoice_16_9['Total Cost'] > 0)][['Campaign Name','Billable Impressions','Total Cost']]\n",
    "invoice_16_9.insert(0, 'Monthdate', '2016-09-01')\n",
    "invoice_16_9.tail()"
   ]
  },
  {
   "cell_type": "code",
   "execution_count": 11,
   "metadata": {},
   "outputs": [
    {
     "data": {
      "text/html": [
       "<div>\n",
       "<style scoped>\n",
       "    .dataframe tbody tr th:only-of-type {\n",
       "        vertical-align: middle;\n",
       "    }\n",
       "\n",
       "    .dataframe tbody tr th {\n",
       "        vertical-align: top;\n",
       "    }\n",
       "\n",
       "    .dataframe thead th {\n",
       "        text-align: right;\n",
       "    }\n",
       "</style>\n",
       "<table border=\"1\" class=\"dataframe\">\n",
       "  <thead>\n",
       "    <tr style=\"text-align: right;\">\n",
       "      <th></th>\n",
       "      <th>Monthdate</th>\n",
       "      <th>Campaign Name</th>\n",
       "      <th>Billable Impressions</th>\n",
       "      <th>Total Cost</th>\n",
       "    </tr>\n",
       "  </thead>\n",
       "  <tbody>\n",
       "    <tr>\n",
       "      <th>146</th>\n",
       "      <td>2016-10-01</td>\n",
       "      <td>Stay_In_Savannah_1110637482_Display_ETV</td>\n",
       "      <td>239703</td>\n",
       "      <td>958.8120</td>\n",
       "    </tr>\n",
       "    <tr>\n",
       "      <th>149</th>\n",
       "      <td>2016-10-01</td>\n",
       "      <td>Toledo_Museum_of_Art_1118433663_Display</td>\n",
       "      <td>21521</td>\n",
       "      <td>118.3655</td>\n",
       "    </tr>\n",
       "    <tr>\n",
       "      <th>150</th>\n",
       "      <td>2016-10-01</td>\n",
       "      <td>Toledo_Museum_of_Art_1118433663_Display_ETV</td>\n",
       "      <td>85338</td>\n",
       "      <td>341.3520</td>\n",
       "    </tr>\n",
       "    <tr>\n",
       "      <th>151</th>\n",
       "      <td>2016-10-01</td>\n",
       "      <td>Revelations_Haunted_Attraction_1118432987_Display</td>\n",
       "      <td>28500</td>\n",
       "      <td>152.1900</td>\n",
       "    </tr>\n",
       "    <tr>\n",
       "      <th>152</th>\n",
       "      <td>2016-10-01</td>\n",
       "      <td>Revelations_Haunted_Attraction_1118432987_Disp...</td>\n",
       "      <td>115125</td>\n",
       "      <td>460.5000</td>\n",
       "    </tr>\n",
       "  </tbody>\n",
       "</table>\n",
       "</div>"
      ],
      "text/plain": [
       "      Monthdate                                      Campaign Name  \\\n",
       "146  2016-10-01            Stay_In_Savannah_1110637482_Display_ETV   \n",
       "149  2016-10-01            Toledo_Museum_of_Art_1118433663_Display   \n",
       "150  2016-10-01        Toledo_Museum_of_Art_1118433663_Display_ETV   \n",
       "151  2016-10-01  Revelations_Haunted_Attraction_1118432987_Display   \n",
       "152  2016-10-01  Revelations_Haunted_Attraction_1118432987_Disp...   \n",
       "\n",
       "    Billable Impressions  Total Cost  \n",
       "146               239703    958.8120  \n",
       "149                21521    118.3655  \n",
       "150                85338    341.3520  \n",
       "151                28500    152.1900  \n",
       "152               115125    460.5000  "
      ]
     },
     "execution_count": 11,
     "metadata": {},
     "output_type": "execute_result"
    }
   ],
   "source": [
    "invoice_16_10 = pd.read_excel(folder + invoice_file,'Invoices - October - 2016')\n",
    "invoice_16_10 = invoice_16_10.rename(columns = {'Organzation':'Organization','Cost':'Total Cost'})\n",
    "invoice_16_10 = invoice_16_10[(invoice_16_10['Organization'] == 'iHeartMedia') & (invoice_16_10['Total Cost'] > 0)][['Campaign Name','Billable Impressions','Total Cost']]\n",
    "invoice_16_10.insert(0, 'Monthdate', '2016-10-01')\n",
    "invoice_16_10.tail()"
   ]
  },
  {
   "cell_type": "code",
   "execution_count": 12,
   "metadata": {},
   "outputs": [
    {
     "data": {
      "text/html": [
       "<div>\n",
       "<style scoped>\n",
       "    .dataframe tbody tr th:only-of-type {\n",
       "        vertical-align: middle;\n",
       "    }\n",
       "\n",
       "    .dataframe tbody tr th {\n",
       "        vertical-align: top;\n",
       "    }\n",
       "\n",
       "    .dataframe thead th {\n",
       "        text-align: right;\n",
       "    }\n",
       "</style>\n",
       "<table border=\"1\" class=\"dataframe\">\n",
       "  <thead>\n",
       "    <tr style=\"text-align: right;\">\n",
       "      <th></th>\n",
       "      <th>Monthdate</th>\n",
       "      <th>Campaign Name</th>\n",
       "      <th>Billable Impressions</th>\n",
       "      <th>Total Cost</th>\n",
       "    </tr>\n",
       "  </thead>\n",
       "  <tbody>\n",
       "    <tr>\n",
       "      <th>205</th>\n",
       "      <td>2016-11-01</td>\n",
       "      <td>Jet_Jam_Night_of_Fire_1106358977_Display</td>\n",
       "      <td>49409</td>\n",
       "      <td>272.0</td>\n",
       "    </tr>\n",
       "    <tr>\n",
       "      <th>206</th>\n",
       "      <td>2016-11-01</td>\n",
       "      <td>Jet_Jam_Night_of_Fire_1106358977_Display_ETV</td>\n",
       "      <td>198415</td>\n",
       "      <td>794.0</td>\n",
       "    </tr>\n",
       "    <tr>\n",
       "      <th>207</th>\n",
       "      <td>2016-11-01</td>\n",
       "      <td>HART_1106359340_Display_ETV</td>\n",
       "      <td>165320</td>\n",
       "      <td>661.0</td>\n",
       "    </tr>\n",
       "    <tr>\n",
       "      <th>210</th>\n",
       "      <td>2016-11-01</td>\n",
       "      <td>Toledo_Museum_of_Art_1118433663_Display</td>\n",
       "      <td>8472.3</td>\n",
       "      <td>47.0</td>\n",
       "    </tr>\n",
       "    <tr>\n",
       "      <th>211</th>\n",
       "      <td>2016-11-01</td>\n",
       "      <td>Toledo_Museum_of_Art_1118433663_Display_ETV</td>\n",
       "      <td>33669</td>\n",
       "      <td>135.0</td>\n",
       "    </tr>\n",
       "  </tbody>\n",
       "</table>\n",
       "</div>"
      ],
      "text/plain": [
       "      Monthdate                                 Campaign Name  \\\n",
       "205  2016-11-01      Jet_Jam_Night_of_Fire_1106358977_Display   \n",
       "206  2016-11-01  Jet_Jam_Night_of_Fire_1106358977_Display_ETV   \n",
       "207  2016-11-01                   HART_1106359340_Display_ETV   \n",
       "210  2016-11-01       Toledo_Museum_of_Art_1118433663_Display   \n",
       "211  2016-11-01   Toledo_Museum_of_Art_1118433663_Display_ETV   \n",
       "\n",
       "    Billable Impressions  Total Cost  \n",
       "205                49409       272.0  \n",
       "206               198415       794.0  \n",
       "207               165320       661.0  \n",
       "210               8472.3        47.0  \n",
       "211                33669       135.0  "
      ]
     },
     "execution_count": 12,
     "metadata": {},
     "output_type": "execute_result"
    }
   ],
   "source": [
    "invoice_16_11 = pd.read_excel(folder + invoice_file,'Invoices - November - 2016')\n",
    "invoice_16_11 = invoice_16_11.rename(columns = {'Organzation':'Organization','Cost':'Total Cost'})\n",
    "invoice_16_11 = invoice_16_11[(invoice_16_11['Organization'] == 'iHeartMedia') & (invoice_16_11['Total Cost'] > 0)][['Campaign Name','Billable Impressions','Total Cost']]\n",
    "invoice_16_11.insert(0, 'Monthdate', '2016-11-01')\n",
    "invoice_16_11.tail()"
   ]
  },
  {
   "cell_type": "code",
   "execution_count": 13,
   "metadata": {},
   "outputs": [
    {
     "data": {
      "text/html": [
       "<div>\n",
       "<style scoped>\n",
       "    .dataframe tbody tr th:only-of-type {\n",
       "        vertical-align: middle;\n",
       "    }\n",
       "\n",
       "    .dataframe tbody tr th {\n",
       "        vertical-align: top;\n",
       "    }\n",
       "\n",
       "    .dataframe thead th {\n",
       "        text-align: right;\n",
       "    }\n",
       "</style>\n",
       "<table border=\"1\" class=\"dataframe\">\n",
       "  <thead>\n",
       "    <tr style=\"text-align: right;\">\n",
       "      <th></th>\n",
       "      <th>Monthdate</th>\n",
       "      <th>Campaign Name</th>\n",
       "      <th>Billable Impressions</th>\n",
       "      <th>Total Cost</th>\n",
       "    </tr>\n",
       "  </thead>\n",
       "  <tbody>\n",
       "    <tr>\n",
       "      <th>198</th>\n",
       "      <td>2016-12-01</td>\n",
       "      <td>Goodrich_Free_Movie_Passes_DEC_1106362902_Display</td>\n",
       "      <td>40000</td>\n",
       "      <td>200.00000</td>\n",
       "    </tr>\n",
       "    <tr>\n",
       "      <th>199</th>\n",
       "      <td>2016-12-01</td>\n",
       "      <td>Goodrich_Free_Movie_Passes_DEC_1106362902_Disp...</td>\n",
       "      <td>60000</td>\n",
       "      <td>240.00000</td>\n",
       "    </tr>\n",
       "    <tr>\n",
       "      <th>202</th>\n",
       "      <td>2016-12-01</td>\n",
       "      <td>Hot995_Radio_17248_Display</td>\n",
       "      <td>4747475</td>\n",
       "      <td>25019.19325</td>\n",
       "    </tr>\n",
       "    <tr>\n",
       "      <th>203</th>\n",
       "      <td>2016-12-01</td>\n",
       "      <td>Hot995_Radio_17248_Display_ETV</td>\n",
       "      <td>5882353</td>\n",
       "      <td>25000.00025</td>\n",
       "    </tr>\n",
       "    <tr>\n",
       "      <th>204</th>\n",
       "      <td>2016-12-01</td>\n",
       "      <td>Hot995_Radio_17248_Video</td>\n",
       "      <td>586285</td>\n",
       "      <td>7914.84750</td>\n",
       "    </tr>\n",
       "  </tbody>\n",
       "</table>\n",
       "</div>"
      ],
      "text/plain": [
       "      Monthdate                                      Campaign Name  \\\n",
       "198  2016-12-01  Goodrich_Free_Movie_Passes_DEC_1106362902_Display   \n",
       "199  2016-12-01  Goodrich_Free_Movie_Passes_DEC_1106362902_Disp...   \n",
       "202  2016-12-01                         Hot995_Radio_17248_Display   \n",
       "203  2016-12-01                     Hot995_Radio_17248_Display_ETV   \n",
       "204  2016-12-01                           Hot995_Radio_17248_Video   \n",
       "\n",
       "    Billable Impressions   Total Cost  \n",
       "198                40000    200.00000  \n",
       "199                60000    240.00000  \n",
       "202              4747475  25019.19325  \n",
       "203              5882353  25000.00025  \n",
       "204               586285   7914.84750  "
      ]
     },
     "execution_count": 13,
     "metadata": {},
     "output_type": "execute_result"
    }
   ],
   "source": [
    "invoice_16_12 = pd.read_excel(folder + invoice_file,'Invoices - December - 2016')\n",
    "invoice_16_12 = invoice_16_12.rename(columns = {'Organzation':'Organization','Cost':'Total Cost'})\n",
    "invoice_16_12 = invoice_16_12[(invoice_16_12['Organization'] == 'iHeartMedia') & (invoice_16_12['Total Cost'] > 0)][['Campaign Name','Billable Impressions','Total Cost']]\n",
    "invoice_16_12.insert(0, 'Monthdate', '2016-12-01')\n",
    "invoice_16_12.tail()"
   ]
  },
  {
   "cell_type": "code",
   "execution_count": 15,
   "metadata": {},
   "outputs": [
    {
     "data": {
      "text/html": [
       "<div>\n",
       "<style scoped>\n",
       "    .dataframe tbody tr th:only-of-type {\n",
       "        vertical-align: middle;\n",
       "    }\n",
       "\n",
       "    .dataframe tbody tr th {\n",
       "        vertical-align: top;\n",
       "    }\n",
       "\n",
       "    .dataframe thead th {\n",
       "        text-align: right;\n",
       "    }\n",
       "</style>\n",
       "<table border=\"1\" class=\"dataframe\">\n",
       "  <thead>\n",
       "    <tr style=\"text-align: right;\">\n",
       "      <th></th>\n",
       "      <th>Monthdate</th>\n",
       "      <th>Campaign Name</th>\n",
       "      <th>Billable Impressions</th>\n",
       "      <th>Total Cost</th>\n",
       "    </tr>\n",
       "  </thead>\n",
       "  <tbody>\n",
       "    <tr>\n",
       "      <th>217</th>\n",
       "      <td>2017-01-01</td>\n",
       "      <td>Kinetico_Water_Systems_1106831358_Display_ETV</td>\n",
       "      <td>60610</td>\n",
       "      <td>189.597656</td>\n",
       "    </tr>\n",
       "    <tr>\n",
       "      <th>220</th>\n",
       "      <td>2017-01-01</td>\n",
       "      <td>Flag_City_Furniture_1118446986_Display_ETV</td>\n",
       "      <td>41236</td>\n",
       "      <td>138.236309</td>\n",
       "    </tr>\n",
       "    <tr>\n",
       "      <th>223</th>\n",
       "      <td>2017-01-01</td>\n",
       "      <td>City_Blends_Smoothie_Cafe_1103842399_Display_ETV</td>\n",
       "      <td>1650</td>\n",
       "      <td>5.299072</td>\n",
       "    </tr>\n",
       "    <tr>\n",
       "      <th>226</th>\n",
       "      <td>2017-01-01</td>\n",
       "      <td>Sentara_1101647111_Display_ETV</td>\n",
       "      <td>403375</td>\n",
       "      <td>1313.230474</td>\n",
       "    </tr>\n",
       "    <tr>\n",
       "      <th>227</th>\n",
       "      <td>2017-01-01</td>\n",
       "      <td>WASH_FM_January_2017_1101647288_Display_ETV</td>\n",
       "      <td>11335583</td>\n",
       "      <td>37180.666898</td>\n",
       "    </tr>\n",
       "  </tbody>\n",
       "</table>\n",
       "</div>"
      ],
      "text/plain": [
       "      Monthdate                                     Campaign Name  \\\n",
       "217  2017-01-01     Kinetico_Water_Systems_1106831358_Display_ETV   \n",
       "220  2017-01-01        Flag_City_Furniture_1118446986_Display_ETV   \n",
       "223  2017-01-01  City_Blends_Smoothie_Cafe_1103842399_Display_ETV   \n",
       "226  2017-01-01                    Sentara_1101647111_Display_ETV   \n",
       "227  2017-01-01       WASH_FM_January_2017_1101647288_Display_ETV   \n",
       "\n",
       "    Billable Impressions    Total Cost  \n",
       "217                60610    189.597656  \n",
       "220                41236    138.236309  \n",
       "223                 1650      5.299072  \n",
       "226               403375   1313.230474  \n",
       "227             11335583  37180.666898  "
      ]
     },
     "execution_count": 15,
     "metadata": {},
     "output_type": "execute_result"
    }
   ],
   "source": [
    "invoice_17_1 = pd.read_excel(folder + invoice_file,'Invoices - Jan - 2017')\n",
    "invoice_17_1 = invoice_17_1.rename(columns = {'Cost':'Total Cost'})\n",
    "invoice_17_1 = invoice_17_1[(invoice_17_1['Organization'] == 'iHeartMedia') & (invoice_17_1['Total Cost'] > 0)][['Campaign Name','Billable Impressions','Total Cost']]\n",
    "invoice_17_1.insert(0, 'Monthdate', '2017-01-01')\n",
    "invoice_17_1.tail()"
   ]
  },
  {
   "cell_type": "code",
   "execution_count": 16,
   "metadata": {},
   "outputs": [
    {
     "data": {
      "text/plain": [
       "546"
      ]
     },
     "execution_count": 16,
     "metadata": {},
     "output_type": "execute_result"
    }
   ],
   "source": [
    "summary_16 = pd.concat([invoice_16_6,invoice_16_7,invoice_16_8,invoice_16_9,invoice_16_10,invoice_16_11,invoice_16_12])\n",
    "summary_16.shape[0]"
   ]
  },
  {
   "cell_type": "code",
   "execution_count": 17,
   "metadata": {},
   "outputs": [
    {
     "data": {
      "text/html": [
       "<div>\n",
       "<style scoped>\n",
       "    .dataframe tbody tr th:only-of-type {\n",
       "        vertical-align: middle;\n",
       "    }\n",
       "\n",
       "    .dataframe tbody tr th {\n",
       "        vertical-align: top;\n",
       "    }\n",
       "\n",
       "    .dataframe thead th {\n",
       "        text-align: right;\n",
       "    }\n",
       "</style>\n",
       "<table border=\"1\" class=\"dataframe\">\n",
       "  <thead>\n",
       "    <tr style=\"text-align: right;\">\n",
       "      <th></th>\n",
       "      <th>Monthdate</th>\n",
       "      <th>Campaign Name</th>\n",
       "      <th>Billable Impressions</th>\n",
       "      <th>Total Cost</th>\n",
       "    </tr>\n",
       "  </thead>\n",
       "  <tbody>\n",
       "    <tr>\n",
       "      <th>256</th>\n",
       "      <td>2017-02-01</td>\n",
       "      <td>Flag_City_Furniture_1118446986_Display_ETV</td>\n",
       "      <td>41901</td>\n",
       "      <td>148.171468</td>\n",
       "    </tr>\n",
       "    <tr>\n",
       "      <th>259</th>\n",
       "      <td>2017-02-01</td>\n",
       "      <td>City_Blends_Smoothie_Cafe_1103842399_Display_ETV</td>\n",
       "      <td>40187</td>\n",
       "      <td>130.071999</td>\n",
       "    </tr>\n",
       "    <tr>\n",
       "      <th>262</th>\n",
       "      <td>2017-02-01</td>\n",
       "      <td>WASH_FM_January_2017_1101647288_Display_ETV</td>\n",
       "      <td>4164417</td>\n",
       "      <td>13279.205302</td>\n",
       "    </tr>\n",
       "    <tr>\n",
       "      <th>263</th>\n",
       "      <td>2017-02-01</td>\n",
       "      <td>Sentara_1101647111_Display_ETV</td>\n",
       "      <td>355692</td>\n",
       "      <td>1185.050265</td>\n",
       "    </tr>\n",
       "    <tr>\n",
       "      <th>267</th>\n",
       "      <td>2017-02-01</td>\n",
       "      <td>Subway_1112251921_GF_Display</td>\n",
       "      <td>711578</td>\n",
       "      <td>3170.660808</td>\n",
       "    </tr>\n",
       "  </tbody>\n",
       "</table>\n",
       "</div>"
      ],
      "text/plain": [
       "      Monthdate                                     Campaign Name  \\\n",
       "256  2017-02-01        Flag_City_Furniture_1118446986_Display_ETV   \n",
       "259  2017-02-01  City_Blends_Smoothie_Cafe_1103842399_Display_ETV   \n",
       "262  2017-02-01       WASH_FM_January_2017_1101647288_Display_ETV   \n",
       "263  2017-02-01                    Sentara_1101647111_Display_ETV   \n",
       "267  2017-02-01                      Subway_1112251921_GF_Display   \n",
       "\n",
       "    Billable Impressions    Total Cost  \n",
       "256                41901    148.171468  \n",
       "259                40187    130.071999  \n",
       "262              4164417  13279.205302  \n",
       "263               355692   1185.050265  \n",
       "267               711578   3170.660808  "
      ]
     },
     "execution_count": 17,
     "metadata": {},
     "output_type": "execute_result"
    }
   ],
   "source": [
    "invoice_17_2 = pd.read_excel(folder + invoice_file,'Invoices - Feb - 2017')\n",
    "invoice_17_2 = invoice_17_2.rename(columns = {'Cost':'Total Cost'})\n",
    "invoice_17_2 = invoice_17_2[(invoice_17_2['Organization'] == 'iHeartMedia') & (invoice_17_2['Total Cost'] > 0)][['Campaign Name','Billable Impressions','Total Cost']]\n",
    "invoice_17_2.insert(0, 'Monthdate', '2017-02-01')\n",
    "invoice_17_2.tail()"
   ]
  },
  {
   "cell_type": "code",
   "execution_count": 18,
   "metadata": {},
   "outputs": [
    {
     "data": {
      "text/html": [
       "<div>\n",
       "<style scoped>\n",
       "    .dataframe tbody tr th:only-of-type {\n",
       "        vertical-align: middle;\n",
       "    }\n",
       "\n",
       "    .dataframe tbody tr th {\n",
       "        vertical-align: top;\n",
       "    }\n",
       "\n",
       "    .dataframe thead th {\n",
       "        text-align: right;\n",
       "    }\n",
       "</style>\n",
       "<table border=\"1\" class=\"dataframe\">\n",
       "  <thead>\n",
       "    <tr style=\"text-align: right;\">\n",
       "      <th></th>\n",
       "      <th>Monthdate</th>\n",
       "      <th>Campaign Name</th>\n",
       "      <th>Billable Impressions</th>\n",
       "      <th>Total Cost</th>\n",
       "    </tr>\n",
       "  </thead>\n",
       "  <tbody>\n",
       "    <tr>\n",
       "      <th>298</th>\n",
       "      <td>2017-03-01</td>\n",
       "      <td>DC101_Elliot_in_the_Morning_1101648836_Display...</td>\n",
       "      <td>2607725</td>\n",
       "      <td>4006.940614</td>\n",
       "    </tr>\n",
       "    <tr>\n",
       "      <th>299</th>\n",
       "      <td>2017-03-01</td>\n",
       "      <td>Office_of_Problem_Gambling_Awareness_Month_110...</td>\n",
       "      <td>407321</td>\n",
       "      <td>2068.659661</td>\n",
       "    </tr>\n",
       "    <tr>\n",
       "      <th>300</th>\n",
       "      <td>2017-03-01</td>\n",
       "      <td>Office_of_Problem_Gambling_Awareness_Month_110...</td>\n",
       "      <td>337803</td>\n",
       "      <td>1315.140083</td>\n",
       "    </tr>\n",
       "    <tr>\n",
       "      <th>301</th>\n",
       "      <td>2017-03-01</td>\n",
       "      <td>Visit_Orlando_In_State_1101648831_Display</td>\n",
       "      <td>230854</td>\n",
       "      <td>631.352531</td>\n",
       "    </tr>\n",
       "    <tr>\n",
       "      <th>302</th>\n",
       "      <td>2017-03-01</td>\n",
       "      <td>Visit_Orlando_Out_of_State_1101648831_Display</td>\n",
       "      <td>238884</td>\n",
       "      <td>650.715590</td>\n",
       "    </tr>\n",
       "  </tbody>\n",
       "</table>\n",
       "</div>"
      ],
      "text/plain": [
       "      Monthdate                                      Campaign Name  \\\n",
       "298  2017-03-01  DC101_Elliot_in_the_Morning_1101648836_Display...   \n",
       "299  2017-03-01  Office_of_Problem_Gambling_Awareness_Month_110...   \n",
       "300  2017-03-01  Office_of_Problem_Gambling_Awareness_Month_110...   \n",
       "301  2017-03-01          Visit_Orlando_In_State_1101648831_Display   \n",
       "302  2017-03-01      Visit_Orlando_Out_of_State_1101648831_Display   \n",
       "\n",
       "    Billable Impressions   Total Cost  \n",
       "298              2607725  4006.940614  \n",
       "299               407321  2068.659661  \n",
       "300               337803  1315.140083  \n",
       "301               230854   631.352531  \n",
       "302               238884   650.715590  "
      ]
     },
     "execution_count": 18,
     "metadata": {},
     "output_type": "execute_result"
    }
   ],
   "source": [
    "invoice_17_3 = pd.read_excel(folder + invoice_file,'Invoices - Mar - 2017')\n",
    "invoice_17_3 = invoice_17_3.rename(columns = {'Impressions':'Billable Impressions','Cost':'Total Cost'})\n",
    "invoice_17_3 = invoice_17_3[(invoice_17_3['Organization'] == 'iHeartMedia') & (invoice_17_3['Total Cost'] > 0)][['Campaign Name','Billable Impressions','Total Cost']]\n",
    "invoice_17_3.insert(0, 'Monthdate', '2017-03-01')\n",
    "invoice_17_3.tail()"
   ]
  },
  {
   "cell_type": "code",
   "execution_count": 20,
   "metadata": {},
   "outputs": [
    {
     "data": {
      "text/html": [
       "<div>\n",
       "<style scoped>\n",
       "    .dataframe tbody tr th:only-of-type {\n",
       "        vertical-align: middle;\n",
       "    }\n",
       "\n",
       "    .dataframe tbody tr th {\n",
       "        vertical-align: top;\n",
       "    }\n",
       "\n",
       "    .dataframe thead th {\n",
       "        text-align: right;\n",
       "    }\n",
       "</style>\n",
       "<table border=\"1\" class=\"dataframe\">\n",
       "  <thead>\n",
       "    <tr style=\"text-align: right;\">\n",
       "      <th></th>\n",
       "      <th>Monthdate</th>\n",
       "      <th>Campaign Name</th>\n",
       "      <th>Billable Impressions</th>\n",
       "      <th>Total Cost</th>\n",
       "    </tr>\n",
       "  </thead>\n",
       "  <tbody>\n",
       "    <tr>\n",
       "      <th>2014</th>\n",
       "      <td>2017-04-01</td>\n",
       "      <td>DC101_Elliot_in_the_Morning_1101648836_Display...</td>\n",
       "      <td>440000</td>\n",
       "      <td>1721.064103</td>\n",
       "    </tr>\n",
       "    <tr>\n",
       "      <th>2022</th>\n",
       "      <td>2017-04-01</td>\n",
       "      <td>DC101_101_Minutes_1101648836_Display_ETV</td>\n",
       "      <td>7925495</td>\n",
       "      <td>16014.609397</td>\n",
       "    </tr>\n",
       "    <tr>\n",
       "      <th>2023</th>\n",
       "      <td>2017-04-01</td>\n",
       "      <td>DC101_Elliot_in_the_Morning_1101648836_Display...</td>\n",
       "      <td>2607725</td>\n",
       "      <td>4006.940614</td>\n",
       "    </tr>\n",
       "    <tr>\n",
       "      <th>2031</th>\n",
       "      <td>2017-04-01</td>\n",
       "      <td>DC101_101_Minutes_1101648836_Display_ETV</td>\n",
       "      <td>6165495</td>\n",
       "      <td>8185.631172</td>\n",
       "    </tr>\n",
       "    <tr>\n",
       "      <th>2032</th>\n",
       "      <td>2017-04-01</td>\n",
       "      <td>DC101_Elliot_in_the_Morning_1101648836_Display...</td>\n",
       "      <td>2167725</td>\n",
       "      <td>2285.876511</td>\n",
       "    </tr>\n",
       "  </tbody>\n",
       "</table>\n",
       "</div>"
      ],
      "text/plain": [
       "       Monthdate                                      Campaign Name  \\\n",
       "2014  2017-04-01  DC101_Elliot_in_the_Morning_1101648836_Display...   \n",
       "2022  2017-04-01           DC101_101_Minutes_1101648836_Display_ETV   \n",
       "2023  2017-04-01  DC101_Elliot_in_the_Morning_1101648836_Display...   \n",
       "2031  2017-04-01           DC101_101_Minutes_1101648836_Display_ETV   \n",
       "2032  2017-04-01  DC101_Elliot_in_the_Morning_1101648836_Display...   \n",
       "\n",
       "     Billable Impressions    Total Cost  \n",
       "2014               440000   1721.064103  \n",
       "2022              7925495  16014.609397  \n",
       "2023              2607725   4006.940614  \n",
       "2031              6165495   8185.631172  \n",
       "2032              2167725   2285.876511  "
      ]
     },
     "execution_count": 20,
     "metadata": {},
     "output_type": "execute_result"
    }
   ],
   "source": [
    "invoice_17_4 = pd.read_excel(folder + invoice_file,'Invoice - Apr -2017')\n",
    "invoice_17_4 = invoice_17_4.rename(columns = {'Total cost':'Total Cost'})\n",
    "invoice_17_4 = invoice_17_4[(invoice_17_4['Organization'] == 'iHeartMedia') & (invoice_17_4['Total Cost'] > 0)][['Campaign Name','Billable Impressions','Total Cost']]\n",
    "invoice_17_4.insert(0, 'Monthdate', '2017-04-01')\n",
    "invoice_17_4.tail()"
   ]
  },
  {
   "cell_type": "code",
   "execution_count": 21,
   "metadata": {},
   "outputs": [
    {
     "data": {
      "text/html": [
       "<div>\n",
       "<style scoped>\n",
       "    .dataframe tbody tr th:only-of-type {\n",
       "        vertical-align: middle;\n",
       "    }\n",
       "\n",
       "    .dataframe tbody tr th {\n",
       "        vertical-align: top;\n",
       "    }\n",
       "\n",
       "    .dataframe thead th {\n",
       "        text-align: right;\n",
       "    }\n",
       "</style>\n",
       "<table border=\"1\" class=\"dataframe\">\n",
       "  <thead>\n",
       "    <tr style=\"text-align: right;\">\n",
       "      <th></th>\n",
       "      <th>Monthdate</th>\n",
       "      <th>Campaign Name</th>\n",
       "      <th>Billable Impressions</th>\n",
       "      <th>Total Cost</th>\n",
       "    </tr>\n",
       "  </thead>\n",
       "  <tbody>\n",
       "    <tr>\n",
       "      <th>561</th>\n",
       "      <td>2017-05-01</td>\n",
       "      <td>Direct_Jewelry_Mothers_Day_1105948608_Display_ETV</td>\n",
       "      <td>26772</td>\n",
       "      <td>89.354525</td>\n",
       "    </tr>\n",
       "    <tr>\n",
       "      <th>562</th>\n",
       "      <td>2017-05-01</td>\n",
       "      <td>Pool_Boy_Direct_1105947873_Display_ETV</td>\n",
       "      <td>80610</td>\n",
       "      <td>278.690616</td>\n",
       "    </tr>\n",
       "    <tr>\n",
       "      <th>563</th>\n",
       "      <td>2017-05-01</td>\n",
       "      <td>Millstone_Farm_1105953969_Display_ETV</td>\n",
       "      <td>31445</td>\n",
       "      <td>110.572587</td>\n",
       "    </tr>\n",
       "    <tr>\n",
       "      <th>564</th>\n",
       "      <td>2017-05-01</td>\n",
       "      <td>Thelmas_Summer_2017_1105948309_Display</td>\n",
       "      <td>23840</td>\n",
       "      <td>66.569224</td>\n",
       "    </tr>\n",
       "    <tr>\n",
       "      <th>565</th>\n",
       "      <td>2017-05-01</td>\n",
       "      <td>Thelmas_Summer_2017_1105948309_Display_ETV</td>\n",
       "      <td>13126</td>\n",
       "      <td>49.121229</td>\n",
       "    </tr>\n",
       "  </tbody>\n",
       "</table>\n",
       "</div>"
      ],
      "text/plain": [
       "      Monthdate                                      Campaign Name  \\\n",
       "561  2017-05-01  Direct_Jewelry_Mothers_Day_1105948608_Display_ETV   \n",
       "562  2017-05-01             Pool_Boy_Direct_1105947873_Display_ETV   \n",
       "563  2017-05-01              Millstone_Farm_1105953969_Display_ETV   \n",
       "564  2017-05-01             Thelmas_Summer_2017_1105948309_Display   \n",
       "565  2017-05-01         Thelmas_Summer_2017_1105948309_Display_ETV   \n",
       "\n",
       "    Billable Impressions  Total Cost  \n",
       "561                26772   89.354525  \n",
       "562                80610  278.690616  \n",
       "563                31445  110.572587  \n",
       "564                23840   66.569224  \n",
       "565                13126   49.121229  "
      ]
     },
     "execution_count": 21,
     "metadata": {},
     "output_type": "execute_result"
    }
   ],
   "source": [
    "invoice_17_5 = pd.read_excel(folder + invoice_file,'Invoice - May - 2017')\n",
    "invoice_17_5 = invoice_17_5.rename(columns = {'Total cost':'Total Cost'})\n",
    "invoice_17_5 = invoice_17_5[(invoice_17_5['Organization'] == 'iHeartMedia') & (invoice_17_5['Total Cost'] > 0)][['Campaign Name','Billable Impressions','Total Cost']]\n",
    "invoice_17_5.insert(0, 'Monthdate', '2017-05-01')\n",
    "invoice_17_5.tail()"
   ]
  },
  {
   "cell_type": "code",
   "execution_count": 38,
   "metadata": {},
   "outputs": [
    {
     "data": {
      "text/plain": [
       "546"
      ]
     },
     "execution_count": 38,
     "metadata": {},
     "output_type": "execute_result"
    }
   ],
   "source": [
    "summary_16 = pd.concat([invoice_16_6,invoice_16_7,invoice_16_8,invoice_16_9,invoice_16_10,invoice_16_11,invoice_16_12])\n",
    "summary_16.shape[0]"
   ]
  },
  {
   "cell_type": "code",
   "execution_count": 36,
   "metadata": {},
   "outputs": [],
   "source": [
    "##2017-jun to dec\n",
    "columns = ['Monthdate','Campaign Name','Billable Impressions','Total Cost']\n",
    "summary_17 = pd.DataFrame(columns =columns )\n",
    "for i in range(6,13):\n",
    "    name  = 'invoice_17_' + str(i)\n",
    "    locals()[name]=i\n",
    "    name = pd.read_excel(folder + invoice_file, 'Invoice - ' + cl.month_abbr[i] + ' - 2017')\n",
    "    name = name.rename(columns = {'Total cost':'Total Cost'})\n",
    "    name = name[(name['Organization'] == 'iHeartMedia') & (name['Total Cost'] > 0)][['Campaign Name','Billable Impressions','Total Cost']]\n",
    "    name.insert(0,'Monthdate','2017-0'+str(i)+'-01')\n",
    "    summary_17 = summary_17.append(name,sort = False)"
   ]
  },
  {
   "cell_type": "code",
   "execution_count": 37,
   "metadata": {},
   "outputs": [
    {
     "data": {
      "text/plain": [
       "4451"
      ]
     },
     "execution_count": 37,
     "metadata": {},
     "output_type": "execute_result"
    }
   ],
   "source": [
    "summary_17.shape[0]"
   ]
  },
  {
   "cell_type": "code",
   "execution_count": 39,
   "metadata": {},
   "outputs": [
    {
     "data": {
      "text/plain": [
       "5697"
      ]
     },
     "execution_count": 39,
     "metadata": {},
     "output_type": "execute_result"
    }
   ],
   "source": [
    "summary_17 = pd.concat([invoice_17_1,invoice_17_2,invoice_17_3,invoice_17_4,invoice_17_5,summary_17])\n",
    "summary_17.shape[0]"
   ]
  },
  {
   "cell_type": "code",
   "execution_count": 43,
   "metadata": {},
   "outputs": [],
   "source": [
    "##2018\n",
    "columns = ['Monthdate','Campaign Name','Billable Impressions','Total Cost']\n",
    "summary_18 = pd.DataFrame(columns =columns )\n",
    "for i in range(1,13):\n",
    "    name  = 'invoice_18_' + str(i)\n",
    "    locals()[name]=i\n",
    "    name = pd.read_excel(folder + invoice_file, 'Invoice - ' + cl.month_abbr[i] + ' - 2018')\n",
    "    name = name.rename(columns = {'Total cost':'Total Cost'})\n",
    "    name = name[(name['Organization'] == 'iHeartMedia') & (name['Total Cost'] > 0)][['Campaign Name','Billable Impressions','Total Cost']]\n",
    "    name.insert(0,'Monthdate','2018-0'+str(i)+'-01')\n",
    "    summary_18 = summary_18.append(name,sort = False)"
   ]
  },
  {
   "cell_type": "code",
   "execution_count": 44,
   "metadata": {},
   "outputs": [
    {
     "data": {
      "text/plain": [
       "13200"
      ]
     },
     "execution_count": 44,
     "metadata": {},
     "output_type": "execute_result"
    }
   ],
   "source": [
    "summary_18.shape[0]"
   ]
  },
  {
   "cell_type": "code",
   "execution_count": 47,
   "metadata": {},
   "outputs": [],
   "source": [
    "##2019\n",
    "columns = ['Monthdate','Campaign Name','Billable Impressions','Total Cost']\n",
    "summary_19 = pd.DataFrame(columns =columns )\n",
    "for i in range(1,13):\n",
    "    name  = 'invoice_19_' + str(i)\n",
    "    locals()[name]=i\n",
    "    name = pd.read_excel(folder + invoice_file, 'Invoice - ' + cl.month_abbr[i] + ' - 2019')\n",
    "    name = name.rename(columns = {'Total cost':'Total Cost'})\n",
    "    name = name[(name['Organization'] == 'iHeartMedia') & (name['Total Cost'] > 0)][['Campaign Name','Billable Impressions','Total Cost']]\n",
    "    name.insert(0,'Monthdate','2019-0'+str(i)+'-01')\n",
    "    summary_19 = summary_19.append(name,sort = False)"
   ]
  },
  {
   "cell_type": "code",
   "execution_count": 48,
   "metadata": {},
   "outputs": [
    {
     "data": {
      "text/plain": [
       "41264"
      ]
     },
     "execution_count": 48,
     "metadata": {},
     "output_type": "execute_result"
    }
   ],
   "source": [
    "summary_19.shape[0]"
   ]
  },
  {
   "cell_type": "code",
   "execution_count": 49,
   "metadata": {},
   "outputs": [],
   "source": [
    "##2020\n",
    "columns = ['Monthdate','Campaign Name','Billable Impressions','Total Cost']\n",
    "summary_20 = pd.DataFrame(columns =columns )\n",
    "for i in range(1,5):\n",
    "    name  = 'invoice_20_' + str(i)\n",
    "    locals()[name]=i\n",
    "    name = pd.read_excel(folder + invoice_file, 'Invoice - ' + cl.month_abbr[i] + ' - 2020')\n",
    "    name = name.rename(columns = {'Total cost':'Total Cost'})\n",
    "    name = name[(name['Organization'] == 'iHeartMedia') & (name['Total Cost'] > 0)][['Campaign Name','Billable Impressions','Total Cost']]\n",
    "    name.insert(0,'Monthdate','2020-0'+str(i)+'-01')\n",
    "    summary_20 = summary_20.append(name,sort = False)"
   ]
  },
  {
   "cell_type": "code",
   "execution_count": 50,
   "metadata": {},
   "outputs": [
    {
     "data": {
      "text/plain": [
       "10271"
      ]
     },
     "execution_count": 50,
     "metadata": {},
     "output_type": "execute_result"
    }
   ],
   "source": [
    "summary_20.shape[0]"
   ]
  },
  {
   "cell_type": "code",
   "execution_count": 51,
   "metadata": {},
   "outputs": [
    {
     "data": {
      "text/plain": [
       "70978"
      ]
     },
     "execution_count": 51,
     "metadata": {},
     "output_type": "execute_result"
    }
   ],
   "source": [
    "summary = pd.concat([summary_16,summary_17,summary_18,summary_19,summary_20])\n",
    "summary.shape[0]"
   ]
  },
  {
   "cell_type": "code",
   "execution_count": 53,
   "metadata": {},
   "outputs": [],
   "source": [
    "summary.to_excel(folder + '/IHM 16.6_20.4 Summary.xlsx', index = False)"
   ]
  },
  {
   "cell_type": "code",
   "execution_count": null,
   "metadata": {},
   "outputs": [],
   "source": []
  }
 ],
 "metadata": {
  "kernelspec": {
   "display_name": "Python 3",
   "language": "python",
   "name": "python3"
  },
  "language_info": {
   "codemirror_mode": {
    "name": "ipython",
    "version": 3
   },
   "file_extension": ".py",
   "mimetype": "text/x-python",
   "name": "python",
   "nbconvert_exporter": "python",
   "pygments_lexer": "ipython3",
   "version": "3.7.3"
  }
 },
 "nbformat": 4,
 "nbformat_minor": 2
}
